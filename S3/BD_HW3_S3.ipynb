{
  "nbformat": 4,
  "nbformat_minor": 0,
  "metadata": {
    "colab": {
      "name": "BD HW3 S3.ipynb",
      "provenance": [],
      "collapsed_sections": []
    },
    "kernelspec": {
      "name": "python3",
      "display_name": "Python 3"
    },
    "language_info": {
      "name": "python"
    }
  },
  "cells": [
    {
      "cell_type": "markdown",
      "metadata": {
        "id": "gT8McCtpyrpC"
      },
      "source": [
        "# Step 3 (Work with DataFrame & Spark SQL)"
      ]
    },
    {
      "cell_type": "markdown",
      "metadata": {
        "id": "qZfy5uEnzvtR"
      },
      "source": [
        "## Environment Setup"
      ]
    },
    {
      "cell_type": "markdown",
      "metadata": {
        "id": "dgTNKNFtzviQ"
      },
      "source": [
        "### Install requirements"
      ]
    },
    {
      "cell_type": "code",
      "metadata": {
        "id": "iwqmk_Ozynuc"
      },
      "source": [
        "!apt-get install openjdk-8-jdk-headless -qq > /dev/null\n",
        "!wget -q http://archive.apache.org/dist/spark/spark-3.1.1/spark-3.1.1-bin-hadoop3.2.tgz\n",
        "!tar xf spark-3.1.1-bin-hadoop3.2.tgz\n",
        "!pip install -q findspark"
      ],
      "execution_count": 1,
      "outputs": []
    },
    {
      "cell_type": "markdown",
      "metadata": {
        "id": "IxU0Z0X6z0nw"
      },
      "source": [
        "### Set environment variables"
      ]
    },
    {
      "cell_type": "code",
      "metadata": {
        "id": "cX5XYlnJzz9x"
      },
      "source": [
        "import os\n",
        "os.environ[\"JAVA_HOME\"] = \"/usr/lib/jvm/java-8-openjdk-amd64\"\n",
        "os.environ[\"SPARK_HOME\"] = \"/content/spark-3.1.1-bin-hadoop3.2\""
      ],
      "execution_count": 2,
      "outputs": []
    },
    {
      "cell_type": "markdown",
      "metadata": {
        "id": "XXhRz_BCz6EX"
      },
      "source": [
        "### Import libraries"
      ]
    },
    {
      "cell_type": "code",
      "metadata": {
        "colab": {
          "base_uri": "https://localhost:8080/",
          "height": 216
        },
        "id": "NJbeIjoqz4IH",
        "outputId": "3667e059-f72c-4eb0-f057-8b6e2db08aca"
      },
      "source": [
        "import findspark\n",
        "findspark.init()\n",
        "from pyspark.sql import SparkSession\n",
        "spark = SparkSession.builder.master(\"local[*]\").getOrCreate()\n",
        "spark.conf.set(\"spark.sql.repl.eagerEval.enabled\", True) # Property used to format output tables better\n",
        "spark"
      ],
      "execution_count": 3,
      "outputs": [
        {
          "output_type": "execute_result",
          "data": {
            "text/html": [
              "\n",
              "            <div>\n",
              "                <p><b>SparkSession - in-memory</b></p>\n",
              "                \n",
              "        <div>\n",
              "            <p><b>SparkContext</b></p>\n",
              "\n",
              "            <p><a href=\"http://4634689f4b7c:4040\">Spark UI</a></p>\n",
              "\n",
              "            <dl>\n",
              "              <dt>Version</dt>\n",
              "                <dd><code>v3.1.1</code></dd>\n",
              "              <dt>Master</dt>\n",
              "                <dd><code>local[*]</code></dd>\n",
              "              <dt>AppName</dt>\n",
              "                <dd><code>pyspark-shell</code></dd>\n",
              "            </dl>\n",
              "        </div>\n",
              "        \n",
              "            </div>\n",
              "        "
            ],
            "text/plain": [
              "<pyspark.sql.session.SparkSession at 0x7fe45f6d3e90>"
            ]
          },
          "metadata": {
            "tags": []
          },
          "execution_count": 3
        }
      ]
    },
    {
      "cell_type": "code",
      "metadata": {
        "id": "Bu3KAOmQz8X9"
      },
      "source": [
        "import os\n",
        "import pandas as pd\n",
        "from google.colab import drive\n",
        "from tqdm import tqdm\n",
        "\n",
        "from pyspark.sql.functions import lit, col\n",
        "from pyspark.sql.types import DoubleType, IntegerType, StringType, LongType\n",
        "from pyspark.sql import functions as F\n",
        "from pyspark.sql.window import Window"
      ],
      "execution_count": 118,
      "outputs": []
    },
    {
      "cell_type": "markdown",
      "metadata": {
        "id": "gEVhPQgb0ACm"
      },
      "source": [
        "### Mount drive for log file"
      ]
    },
    {
      "cell_type": "code",
      "metadata": {
        "colab": {
          "base_uri": "https://localhost:8080/"
        },
        "id": "t94O1i3xz--R",
        "outputId": "32693b74-2806-4f35-888f-8bfb95f559fb"
      },
      "source": [
        "drive.mount('/content/drive')"
      ],
      "execution_count": 5,
      "outputs": [
        {
          "output_type": "stream",
          "text": [
            "Mounted at /content/drive\n"
          ],
          "name": "stdout"
        }
      ]
    },
    {
      "cell_type": "markdown",
      "metadata": {
        "id": "Ymr2fA0LAqvC"
      },
      "source": [
        "## Make data ready"
      ]
    },
    {
      "cell_type": "markdown",
      "metadata": {
        "id": "DoQzW8MGBhl_"
      },
      "source": [
        "### Clean & Convert excel files to csv to be compatible with spark"
      ]
    },
    {
      "cell_type": "code",
      "metadata": {
        "colab": {
          "base_uri": "https://localhost:8080/"
        },
        "id": "hXvA-jk-1EnS",
        "outputId": "4bdfb9dc-2fed-4413-f410-1a1957c9b2a5"
      },
      "source": [
        "stocks_folder_path = '/content/drive/MyDrive/BD Stocks/xlsx'\n",
        "stocks_csv_folder_path = '/content/drive/MyDrive/BD Stocks/csv'\n",
        "for file_name in tqdm(os.listdir(stocks_folder_path)):\n",
        "  file_path = os.path.join(stocks_folder_path, file_name)\n",
        "  data = pd.read_excel(file_path)\n",
        "  header = data.iloc[1]\n",
        "  data = data.iloc[2:]\n",
        "  data.columns = header\n",
        "  csv_file_name = file_name.split(\".\")[0] + \".csv\"\n",
        "  csv_path = os.path.join(stocks_csv_folder_path, csv_file_name)\n",
        "  data.to_csv(csv_path)"
      ],
      "execution_count": 14,
      "outputs": [
        {
          "output_type": "stream",
          "text": [
            "100%|██████████| 40/40 [00:05<00:00,  6.94it/s]\n"
          ],
          "name": "stderr"
        }
      ]
    },
    {
      "cell_type": "markdown",
      "metadata": {
        "id": "8Czrj_oVE908"
      },
      "source": [
        "### Make dataframe"
      ]
    },
    {
      "cell_type": "code",
      "metadata": {
        "colab": {
          "base_uri": "https://localhost:8080/"
        },
        "id": "ZG20sFtUDJ14",
        "outputId": "d9d9a273-a0fd-4379-82f7-0a1f48c26b48"
      },
      "source": [
        "is_first = True\n",
        "for file_name in tqdm(os.listdir(stocks_csv_folder_path)):\n",
        "  file_path = os.path.join(stocks_csv_folder_path, file_name)\n",
        "  dataframe = spark.read.csv(file_path, header=True, sep=\",\")\n",
        "  year, month, day = file_name.split('.')[0].split('_')[2:]\n",
        "  dataframe = dataframe.withColumn(\"day\", lit(day))\n",
        "  dataframe = dataframe.withColumn(\"month\", lit(month))\n",
        "  dataframe = dataframe.withColumn(\"year\", lit(year))\n",
        "  dataframe = dataframe.withColumn('بیشترین', F.col('بیشترین').cast(IntegerType()))\n",
        "  dataframe = dataframe.withColumn('کمترین', F.col('کمترین').cast(IntegerType()))\n",
        "  dataframe = dataframe.withColumn('قیمت پایانی - درصد', F.col('قیمت پایانی - درصد').cast(DoubleType()))\n",
        "  dataframe = dataframe.withColumn('قیمت پایانی - تغییر', F.col('قیمت پایانی - تغییر').cast(DoubleType()))\n",
        "  dataframe = dataframe.withColumn('قیمت پایانی - مقدار', F.col('قیمت پایانی - مقدار').cast(IntegerType()))\n",
        "  dataframe = dataframe.withColumn('آخرین معامله - درصد', F.col('آخرین معامله - درصد').cast(DoubleType()))\n",
        "  dataframe = dataframe.withColumn('آخرین معامله - تغییر', F.col('آخرین معامله - تغییر').cast(DoubleType()))\n",
        "  dataframe = dataframe.withColumn('آخرین معامله - مقدار', F.col('آخرین معامله - مقدار').cast(IntegerType()))\n",
        "  dataframe = dataframe.withColumn('اولین', F.col('اولین').cast(IntegerType()))\n",
        "  dataframe = dataframe.withColumn('دیروز', F.col('دیروز').cast(IntegerType()))\n",
        "  dataframe = dataframe.withColumn('ارزش', F.col('ارزش').cast(LongType()))\n",
        "  dataframe = dataframe.withColumn('حجم', F.col('حجم').cast(LongType()))\n",
        "  dataframe = dataframe.withColumn('تعداد', F.col('تعداد').cast(LongType()))\n",
        "  dataframe = dataframe.withColumn('دیروز', F.col('دیروز').cast(LongType()))\n",
        "  dataframe = dataframe.withColumnRenamed('بیشترین', 'max_price') \\\n",
        "                        .withColumnRenamed('کمترین', 'min_price') \\\n",
        "                        .withColumnRenamed('قیمت پایانی - درصد', 'close_price_change_percent') \\\n",
        "                        .withColumnRenamed('قیمت پایانی - تغییر', 'close_price_change') \\\n",
        "                        .withColumnRenamed('قیمت پایانی - مقدار', 'close_price') \\\n",
        "                        .withColumnRenamed('آخرین معامله - درصد', 'last_order_value_change_percent') \\\n",
        "                        .withColumnRenamed('آخرین معامله - تغییر', 'last_order_value_change') \\\n",
        "                        .withColumnRenamed('آخرین معامله - مقدار', 'last_order_value') \\\n",
        "                        .withColumnRenamed('اولین', 'first_order_value') \\\n",
        "                        .withColumnRenamed('ارزش', 'value') \\\n",
        "                        .withColumnRenamed('دیروز', 'yesterday_qnt') \\\n",
        "                        .withColumnRenamed('حجم', 'volume') \\\n",
        "                        .withColumnRenamed('تعداد', 'quantity') \\\n",
        "                        .withColumnRenamed('نام', 'full_name') \\\n",
        "                        .withColumnRenamed('نماد', 'symbol')\n",
        "  dataframe = dataframe.drop('_c0')\n",
        "  if is_first:\n",
        "    final_df = dataframe\n",
        "    is_first = False\n",
        "  else:\n",
        "    final_df = final_df.union(dataframe)\n",
        "print(f'Final dataframe rows count: {final_df.cache().count()}')\n",
        "print('First 5 rows:')\n",
        "final_df.show(5)\n"
      ],
      "execution_count": 69,
      "outputs": [
        {
          "output_type": "stream",
          "text": [
            "100%|██████████| 40/40 [00:10<00:00,  3.77it/s]\n"
          ],
          "name": "stderr"
        },
        {
          "output_type": "stream",
          "text": [
            "Final dataframe rows count: 35213\n",
            "First 5 rows:\n",
            "+------+--------------------+--------+--------+-------------+-------------+-----------------+----------------+-----------------------+-------------------------------+-----------+------------------+--------------------------+---------+---------+---+-----+----+\n",
            "|symbol|           full_name|quantity|  volume|        value|yesterday_qnt|first_order_value|last_order_value|last_order_value_change|last_order_value_change_percent|close_price|close_price_change|close_price_change_percent|min_price|max_price|day|month|year|\n",
            "+------+--------------------+--------+--------+-------------+-------------+-----------------+----------------+-----------------------+-------------------------------+-----------+------------------+--------------------------+---------+---------+---+-----+----+\n",
            "|وكبهمن|مديريت سرمايه گذا...|  151766|95993891|1681595741898|        17905|            17010|           17385|                 -520.0|                           -2.9|      17518|            -387.0|                     -2.16|    17010|    18400|  1|   11|1399|\n",
            "|  چخزر|صنايع چوب خزر كاسپين|  128673|25287439|1267884996414|        49254|            46792|           51716|                 2462.0|                            5.0|      50139|             885.0|                       1.8|    46792|    51716|  1|   11|1399|\n",
            "|زملارد|كشاورزي و دامپرور...|   31500| 8365927| 311026821994|        36864|            35028|           38707|                 1843.0|                            5.0|      37178|             314.0|                      0.85|    35028|    38707|  1|   11|1399|\n",
            "|سپيدار|   سپيدار سيستم آسيا|   30117|  198132|   9390466140|        45139|            47395|           47395|                 2256.0|                            5.0|      45518|             379.0|                      0.84|    47395|    47395|  1|   11|1399|\n",
            "| وسپهر|سرمايه گذاري مالي...|   24215|61354166| 653862523008|        10501|            10502|           10612|                  111.0|                           1.06|      10657|             156.0|                      1.49|    10502|    10920|  1|   11|1399|\n",
            "+------+--------------------+--------+--------+-------------+-------------+-----------------+----------------+-----------------------+-------------------------------+-----------+------------------+--------------------------+---------+---------+---+-----+----+\n",
            "only showing top 5 rows\n",
            "\n"
          ],
          "name": "stdout"
        }
      ]
    },
    {
      "cell_type": "markdown",
      "metadata": {
        "id": "SaW1H7NZUGUh"
      },
      "source": [
        "### Make temporary table for sql queries"
      ]
    },
    {
      "cell_type": "code",
      "metadata": {
        "id": "ZtDPKn7ZUJ09"
      },
      "source": [
        "final_df.registerTempTable('stocks')"
      ],
      "execution_count": 70,
      "outputs": []
    },
    {
      "cell_type": "markdown",
      "metadata": {
        "id": "N_LDgNxhQMrI"
      },
      "source": [
        "## Part 1"
      ]
    },
    {
      "cell_type": "markdown",
      "metadata": {
        "id": "NbQMJDJhQcjP"
      },
      "source": [
        "### With Dataframe"
      ]
    },
    {
      "cell_type": "markdown",
      "metadata": {
        "id": "iPxya9saZIb5"
      },
      "source": [
        "#### Extract last day dataframe"
      ]
    },
    {
      "cell_type": "code",
      "metadata": {
        "colab": {
          "base_uri": "https://localhost:8080/"
        },
        "id": "g1if6LGNQMh-",
        "outputId": "b2daa9f1-6713-455c-a40c-f8ad55b1bf41"
      },
      "source": [
        "last_day_df = final_df.filter((final_df['day']==27) & \n",
        "                              (final_df['month']==12) & \n",
        "                              (final_df['year']==1399))\n",
        "last_day_df.cache().show(5)\n",
        "print(f\"Final day record count: {last_day_df.count()}\")\n"
      ],
      "execution_count": 71,
      "outputs": [
        {
          "output_type": "stream",
          "text": [
            "+--------+--------------------+--------+---------+-------------+-------------+-----------------+----------------+-----------------------+-------------------------------+-----------+------------------+--------------------------+---------+---------+---+-----+----+\n",
            "|  symbol|           full_name|quantity|   volume|        value|yesterday_qnt|first_order_value|last_order_value|last_order_value_change|last_order_value_change_percent|close_price|close_price_change|close_price_change_percent|min_price|max_price|day|month|year|\n",
            "+--------+--------------------+--------+---------+-------------+-------------+-----------------+----------------+-----------------------+-------------------------------+-----------+------------------+--------------------------+---------+---------+---+-----+----+\n",
            "|  پالايش|صندوق پالايشي يکم...|   50519| 54374903|4662042552380|        86360|            87260|           84650|                -1710.0|                          -1.98|      85740|            -620.0|                     -0.72|    84010|    87650| 27|   12|1399|\n",
            "|حامي1401|اختيارف ت حامي-14...|   49939|    49939|        49939|            1|                1|               1|                    0.0|                            0.0|          1|               0.0|                       0.0|        1|        1| 27|   12|1399|\n",
            "|   رافزا|       رايان هم افزا|   41939|  4993972| 460806766282|        90267|            88462|           95683|                 5416.0|                            6.0|      92273|            2006.0|                      2.22|    88462|    95683| 27|   12|1399|\n",
            "|    شپنا|   پالايش نفت اصفهان|   28447|174304778|2557871739290|        14180|            14850|           14590|                  410.0|                           2.89|      14670|             490.0|                      3.46|    14330|    14990| 27|   12|1399|\n",
            "|    اپال|فرآوري معدني اپال...|   28125| 47994924| 859144895370|        18080|            17980|           17970|                 -110.0|                          -0.61|      17900|            -180.0|                      -1.0|    17720|    18100| 27|   12|1399|\n",
            "+--------+--------------------+--------+---------+-------------+-------------+-----------------+----------------+-----------------------+-------------------------------+-----------+------------------+--------------------------+---------+---------+---+-----+----+\n",
            "only showing top 5 rows\n",
            "\n",
            "Final day record count: 934\n"
          ],
          "name": "stdout"
        }
      ]
    },
    {
      "cell_type": "markdown",
      "metadata": {
        "id": "ykU2WuGbZMYx"
      },
      "source": [
        "#### Most expensive"
      ]
    },
    {
      "cell_type": "code",
      "metadata": {
        "colab": {
          "base_uri": "https://localhost:8080/"
        },
        "id": "nj0pTaMCZS54",
        "outputId": "4512a2bc-f5b6-4825-d63a-f6bc47fd44dc"
      },
      "source": [
        "most_expensive = last_day_df.orderBy('close_price', ascending=False).limit(10)\n",
        "print(\"10 Most expensive symbols:\")\n",
        "most_expensive.select(most_expensive['symbol'], most_expensive['close_price']).show()"
      ],
      "execution_count": 73,
      "outputs": [
        {
          "output_type": "stream",
          "text": [
            "10 Most expensive symbols:\n",
            "+----------+-----------+\n",
            "|    symbol|close_price|\n",
            "+----------+-----------+\n",
            "|   سنفت009|    1484467|\n",
            "|پست0008پ09|    1398458|\n",
            "|پست0008پ08|    1372579|\n",
            "|پست0008پ04|    1362991|\n",
            "|پست0008پ02|    1350000|\n",
            "|    افاد14|    1105423|\n",
            "|    صگل309|    1100000|\n",
            "|سكه0011پ02|    1090808|\n",
            "|سكه9912پ04|    1090417|\n",
            "|سكه0012پ04|    1089400|\n",
            "+----------+-----------+\n",
            "\n"
          ],
          "name": "stdout"
        }
      ]
    },
    {
      "cell_type": "markdown",
      "metadata": {
        "id": "WYoGqG2pc1ag"
      },
      "source": [
        "#### Cheapest"
      ]
    },
    {
      "cell_type": "code",
      "metadata": {
        "colab": {
          "base_uri": "https://localhost:8080/"
        },
        "id": "fZD0JQQvc3j0",
        "outputId": "9bd66c4f-3050-4f6c-aefe-f5855b515738"
      },
      "source": [
        "most_expensive = last_day_df.orderBy('close_price').limit(10)\n",
        "print(\"10 Cheapest symbols:\")\n",
        "most_expensive.select(most_expensive['symbol'], most_expensive['close_price']).show()"
      ],
      "execution_count": 74,
      "outputs": [
        {
          "output_type": "stream",
          "text": [
            "10 Cheapest symbols:\n",
            "+---------+-----------+\n",
            "|   symbol|close_price|\n",
            "+---------+-----------+\n",
            "|    كيان2|          1|\n",
            "|امين يكم2|          1|\n",
            "|   ياقوت2|          1|\n",
            "| حامي1401|          1|\n",
            "|   كارين2|          1|\n",
            "|   آكورد2|          1|\n",
            "|    كمند2|          1|\n",
            "|  وبازار2|          1|\n",
            "|    نهال2|          1|\n",
            "|  اعتماد2|          1|\n",
            "+---------+-----------+\n",
            "\n"
          ],
          "name": "stdout"
        }
      ]
    },
    {
      "cell_type": "markdown",
      "metadata": {
        "id": "LMBhbmePUfEI"
      },
      "source": [
        "### With Spark SQL"
      ]
    },
    {
      "cell_type": "markdown",
      "metadata": {
        "id": "RB7Ps-VzdIAo"
      },
      "source": [
        "#### Most Expensive"
      ]
    },
    {
      "cell_type": "code",
      "metadata": {
        "colab": {
          "base_uri": "https://localhost:8080/"
        },
        "id": "V5hddTepUeU5",
        "outputId": "1fcba881-23c7-4884-a67f-328d5463e2c8"
      },
      "source": [
        "print(\"10 Most expensive symbols:\")\n",
        "spark.sql(\"SELECT symbol, close_price \" +\n",
        "          \"FROM stocks \" +\n",
        "          \"WHERE (year == 1399 AND month==12 AND day==27) \" +\n",
        "          \"ORDER BY close_price DESC \" +\n",
        "          \"LIMIT 10;\").show()"
      ],
      "execution_count": 83,
      "outputs": [
        {
          "output_type": "stream",
          "text": [
            "10 Most expensive symbols:\n",
            "+----------+-----------+\n",
            "|    symbol|close_price|\n",
            "+----------+-----------+\n",
            "|   سنفت009|    1484467|\n",
            "|پست0008پ09|    1398458|\n",
            "|پست0008پ08|    1372579|\n",
            "|پست0008پ04|    1362991|\n",
            "|پست0008پ02|    1350000|\n",
            "|    افاد14|    1105423|\n",
            "|    صگل309|    1100000|\n",
            "|سكه0011پ02|    1090808|\n",
            "|سكه9912پ04|    1090417|\n",
            "|سكه0012پ04|    1089400|\n",
            "+----------+-----------+\n",
            "\n"
          ],
          "name": "stdout"
        }
      ]
    },
    {
      "cell_type": "markdown",
      "metadata": {
        "id": "mde_-Yjnhtc6"
      },
      "source": [
        "#### Cheapest"
      ]
    },
    {
      "cell_type": "code",
      "metadata": {
        "colab": {
          "base_uri": "https://localhost:8080/"
        },
        "id": "acuf0I6YK-ND",
        "outputId": "b4abefd5-1ee8-41ab-ad7b-db3fee789f7b"
      },
      "source": [
        "print(\"10 Cheapest symbols:\")\n",
        "spark.sql(\"SELECT symbol, close_price \" +\n",
        "          \"FROM stocks \" +\n",
        "          \"WHERE (year == 1399 AND month==12 AND day==27) \" +\n",
        "          \"ORDER BY close_price ASC \" +\n",
        "          \"LIMIT 10;\").show()"
      ],
      "execution_count": 84,
      "outputs": [
        {
          "output_type": "stream",
          "text": [
            "10 Cheapest symbols:\n",
            "+---------+-----------+\n",
            "|   symbol|close_price|\n",
            "+---------+-----------+\n",
            "|    كيان2|          1|\n",
            "|امين يكم2|          1|\n",
            "|   ياقوت2|          1|\n",
            "| حامي1401|          1|\n",
            "|   كارين2|          1|\n",
            "|   آكورد2|          1|\n",
            "|    كمند2|          1|\n",
            "|  وبازار2|          1|\n",
            "|    نهال2|          1|\n",
            "|  اعتماد2|          1|\n",
            "+---------+-----------+\n",
            "\n"
          ],
          "name": "stdout"
        }
      ]
    },
    {
      "cell_type": "markdown",
      "metadata": {
        "id": "SYsOFpUzifli"
      },
      "source": [
        "## Part 2"
      ]
    },
    {
      "cell_type": "markdown",
      "metadata": {
        "id": "DXsgoZM8iiJ2"
      },
      "source": [
        "### With Dataframe"
      ]
    },
    {
      "cell_type": "code",
      "metadata": {
        "colab": {
          "base_uri": "https://localhost:8080/"
        },
        "id": "rpq8k6pPh03Y",
        "outputId": "b14b0767-91c4-4d10-e746-001b902b9bfe"
      },
      "source": [
        "most_traded = final_df.orderBy('volume', ascending=False).limit(1)\n",
        "print(\"Most traded symbol:\")\n",
        "most_traded.select(most_traded['symbol'], most_traded['volume']).show()"
      ],
      "execution_count": 85,
      "outputs": [
        {
          "output_type": "stream",
          "text": [
            "Most traded symbol:\n",
            "+------+-----------+\n",
            "|symbol|     volume|\n",
            "+------+-----------+\n",
            "| فارس4|34152999908|\n",
            "+------+-----------+\n",
            "\n"
          ],
          "name": "stdout"
        }
      ]
    },
    {
      "cell_type": "markdown",
      "metadata": {
        "id": "mtSO8ZTtih3w"
      },
      "source": [
        "### With Spark SQL"
      ]
    },
    {
      "cell_type": "code",
      "metadata": {
        "colab": {
          "base_uri": "https://localhost:8080/"
        },
        "id": "6Y-CWSWiinWg",
        "outputId": "47fe0af9-f6cd-4d86-f964-d50e18e367f7"
      },
      "source": [
        "print(\"Most traded symbol:\")\n",
        "spark.sql(\"SELECT symbol, volume \" +\n",
        "          \"FROM stocks \" +\n",
        "          \"ORDER BY volume DESC \" +\n",
        "          \"LIMIT 1;\").show()"
      ],
      "execution_count": 86,
      "outputs": [
        {
          "output_type": "stream",
          "text": [
            "Most traded symbol:\n",
            "+------+-----------+\n",
            "|symbol|     volume|\n",
            "+------+-----------+\n",
            "| فارس4|34152999908|\n",
            "+------+-----------+\n",
            "\n"
          ],
          "name": "stdout"
        }
      ]
    },
    {
      "cell_type": "markdown",
      "metadata": {
        "id": "KZHzvqU1jbsP"
      },
      "source": [
        "## Part 3"
      ]
    },
    {
      "cell_type": "markdown",
      "metadata": {
        "id": "0KAFuuaQjdtu"
      },
      "source": [
        "### With Dataframe"
      ]
    },
    {
      "cell_type": "code",
      "metadata": {
        "colab": {
          "base_uri": "https://localhost:8080/"
        },
        "id": "AYtd0ZTjjW0N",
        "outputId": "23304cd6-ee62-476c-fc39-fd337ff741b4"
      },
      "source": [
        "symbol_month_change = (final_df\n",
        "                       .groupBy(['symbol', 'month'])\n",
        "                       .agg(F.sum('close_price_change').alias('month_change')))\n",
        "\n",
        "window_spec = Window().partitionBy(['month']).orderBy(F.desc('month_change'))\n",
        "ranked_symbols = symbol_month_change.withColumn(\"rank\",F.rank().over(window_spec))\n",
        "print(\"Most price rised symbol in each month:\")\n",
        "most_rised = (ranked_symbols\n",
        "              .filter(ranked_symbols['rank'] < 11))\n",
        "most_rised.show()"
      ],
      "execution_count": 121,
      "outputs": [
        {
          "output_type": "stream",
          "text": [
            "Most price rised symbol in each month:\n",
            "+----------+-----+------------+----+\n",
            "|    symbol|month|month_change|rank|\n",
            "+----------+-----+------------+----+\n",
            "|   تملي805|   11|    339281.0|   1|\n",
            "|كشم0001پ01|   11|    188905.0|   2|\n",
            "|سكه0112پ03|   11|    166519.0|   3|\n",
            "|سكه0012پ01|   11|    163059.0|   4|\n",
            "|سكه9912پ04|   11|    161819.0|   5|\n",
            "|سكه0011پ02|   11|    161189.0|   6|\n",
            "|پست0008پ02|   11|    147381.0|   7|\n",
            "|   اراد134|   11|    145293.0|   8|\n",
            "|    عكاوه2|   11|    139102.0|   9|\n",
            "|   تسه9809|   11|    113860.0|  10|\n",
            "|    افاد14|   12|    348744.0|   1|\n",
            "|   تملي803|   12|    329504.0|   2|\n",
            "|   تملي806|   12|    285136.0|   3|\n",
            "|   تملي804|   12|    236888.0|   4|\n",
            "|   تملي802|   12|    179685.0|   5|\n",
            "|    افاد24|   12|    160836.0|   6|\n",
            "|   تملي703|   12|    149670.0|   7|\n",
            "|   عپلي جم|   12|    135483.0|   8|\n",
            "|كشم0006پ02|   12|    129999.0|   9|\n",
            "|   افاد844|   12|    112789.0|  10|\n",
            "+----------+-----+------------+----+\n",
            "\n"
          ],
          "name": "stdout"
        }
      ]
    },
    {
      "cell_type": "markdown",
      "metadata": {
        "id": "t4ilDyqbjdjY"
      },
      "source": [
        "### With Spark SQL"
      ]
    },
    {
      "cell_type": "code",
      "metadata": {
        "colab": {
          "base_uri": "https://localhost:8080/"
        },
        "id": "90ALRCZ5j7Ch",
        "outputId": "cbd05b00-9a07-41f2-f05d-0629900453f5"
      },
      "source": [
        "print(\"Most price rised symbol in each month:\")\n",
        "spark.sql(\"SELECT * \" + \n",
        "          \"FROM ( \" + \n",
        "          \"\tSELECT symbol, month, month_change, \" + \n",
        "          \"\trow_number() over (partition by month order by month_change desc) as symbol_rank \" + \n",
        "          \"\tFROM ( \" + \n",
        "          \"\t\tSELECT symbol, month, SUM(close_price_change) as month_change \" + \n",
        "          \"\t\tFROM stocks  \" + \n",
        "          \"\t\tGROUP BY symbol, month \" + \n",
        "          \"\t\t) AS symbol_month_change \" + \n",
        "          \"\t) AS ranked_symbols \" + \n",
        "          \"WHERE symbol_rank <= 10;\").show()"
      ],
      "execution_count": 88,
      "outputs": [
        {
          "output_type": "stream",
          "text": [
            "Most price rised symbol in each month:\n",
            "+----------+-----+------------+-----------+\n",
            "|    symbol|month|month_change|symbol_rank|\n",
            "+----------+-----+------------+-----------+\n",
            "|   تملي805|   11|    339281.0|          1|\n",
            "|كشم0001پ01|   11|    188905.0|          2|\n",
            "|سكه0112پ03|   11|    166519.0|          3|\n",
            "|سكه0012پ01|   11|    163059.0|          4|\n",
            "|سكه9912پ04|   11|    161819.0|          5|\n",
            "|سكه0011پ02|   11|    161189.0|          6|\n",
            "|پست0008پ02|   11|    147381.0|          7|\n",
            "|   اراد134|   11|    145293.0|          8|\n",
            "|    عكاوه2|   11|    139102.0|          9|\n",
            "|   تسه9809|   11|    113860.0|         10|\n",
            "|    افاد14|   12|    348744.0|          1|\n",
            "|   تملي803|   12|    329504.0|          2|\n",
            "|   تملي806|   12|    285136.0|          3|\n",
            "|   تملي804|   12|    236888.0|          4|\n",
            "|   تملي802|   12|    179685.0|          5|\n",
            "|    افاد24|   12|    160836.0|          6|\n",
            "|   تملي703|   12|    149670.0|          7|\n",
            "|   عپلي جم|   12|    135483.0|          8|\n",
            "|كشم0006پ02|   12|    129999.0|          9|\n",
            "|   افاد844|   12|    112789.0|         10|\n",
            "+----------+-----+------------+-----------+\n",
            "\n"
          ],
          "name": "stdout"
        }
      ]
    },
    {
      "cell_type": "markdown",
      "metadata": {
        "id": "TzQyhXUgqYH3"
      },
      "source": [
        "## Part 4"
      ]
    },
    {
      "cell_type": "markdown",
      "metadata": {
        "id": "3ckUeA0LqX6C"
      },
      "source": [
        "### With Dataframe"
      ]
    },
    {
      "cell_type": "code",
      "metadata": {
        "colab": {
          "base_uri": "https://localhost:8080/"
        },
        "id": "4dQ2KrCBqgD4",
        "outputId": "61d16673-3865-4500-bafb-606ca29fc9a0"
      },
      "source": [
        "most_fall = (final_df\n",
        "             .groupBy('symbol')\n",
        "             .agg(F.sum('close_price_change').alias('six_month_change'))\n",
        "             .sort('six_month_change')).limit(10)\n",
        "print(\"Most price fall symbol in 6 month:\")\n",
        "most_fall.show()"
      ],
      "execution_count": 127,
      "outputs": [
        {
          "output_type": "stream",
          "text": [
            "Most price fall symbol in 6 month:\n",
            "+--------+----------------+\n",
            "|  symbol|six_month_change|\n",
            "+--------+----------------+\n",
            "|   اطلس2|      -7030216.0|\n",
            "| اراد314|      -1950368.0|\n",
            "|تسه99102|      -1807954.0|\n",
            "|تسه99092|      -1771084.0|\n",
            "|   آگاس2|      -1769006.0|\n",
            "|تسه99082|      -1754240.0|\n",
            "| اراد344|      -1422494.0|\n",
            "| اراد424|      -1309024.0|\n",
            "| اراد494|      -1276771.0|\n",
            "| اراد384|      -1210055.0|\n",
            "+--------+----------------+\n",
            "\n"
          ],
          "name": "stdout"
        }
      ]
    },
    {
      "cell_type": "markdown",
      "metadata": {
        "id": "wY6TH2uXqXpi"
      },
      "source": [
        "### With Spark SQL"
      ]
    },
    {
      "cell_type": "code",
      "metadata": {
        "colab": {
          "base_uri": "https://localhost:8080/"
        },
        "id": "qWgJJ6prkUX6",
        "outputId": "a9f0b2a4-0d9c-4600-9cc5-e534ab367ed5"
      },
      "source": [
        "print(\"Most price fall symbol in 6 month:\")\n",
        "spark.sql(\"SELECT symbol, SUM(close_price_change) as period_change \" +\n",
        "          \"FROM stocks \" +\n",
        "          \"GROUP BY symbol \" +\n",
        "          \"ORDER BY period_change ASC \" +\n",
        "          \"LIMIT 10;\").show()"
      ],
      "execution_count": 90,
      "outputs": [
        {
          "output_type": "stream",
          "text": [
            "Most price fall symbol in 6 month:\n",
            "+--------+-------------+\n",
            "|  symbol|period_change|\n",
            "+--------+-------------+\n",
            "|   اطلس2|   -7030216.0|\n",
            "| اراد314|   -1950368.0|\n",
            "|تسه99102|   -1807954.0|\n",
            "|تسه99092|   -1771084.0|\n",
            "|   آگاس2|   -1769006.0|\n",
            "|تسه99082|   -1754240.0|\n",
            "| اراد344|   -1422494.0|\n",
            "| اراد424|   -1309024.0|\n",
            "| اراد494|   -1276771.0|\n",
            "| اراد384|   -1210055.0|\n",
            "+--------+-------------+\n",
            "\n"
          ],
          "name": "stdout"
        }
      ]
    },
    {
      "cell_type": "markdown",
      "metadata": {
        "id": "aZf7encgrHqt"
      },
      "source": [
        "## Part 5"
      ]
    },
    {
      "cell_type": "markdown",
      "metadata": {
        "id": "G_GmJMADrHl8"
      },
      "source": [
        "### With Dataframe"
      ]
    },
    {
      "cell_type": "code",
      "metadata": {
        "colab": {
          "base_uri": "https://localhost:8080/"
        },
        "id": "Gk3H634mrGsN",
        "outputId": "5e781a42-ed34-4a88-91a1-ac88cd92aa54"
      },
      "source": [
        "most_closed = final_df.groupBy('symbol').count().orderBy('count')\n",
        "print(\"Most closed symbols:\")\n",
        "most_closed.show()"
      ],
      "execution_count": 115,
      "outputs": [
        {
          "output_type": "stream",
          "text": [
            "Most closed symbols:\n",
            "+---------+-----+\n",
            "|   symbol|count|\n",
            "+---------+-----+\n",
            "|    دروز4|    1|\n",
            "| تسه99112|    1|\n",
            "|   اراد58|    1|\n",
            "| ضسان2011|    1|\n",
            "|صايپا2032|    1|\n",
            "|    آسام4|    1|\n",
            "|  پا ر 18|    1|\n",
            "| اخزا7182|    1|\n",
            "|    سدشت2|    1|\n",
            "|  صگل3092|    1|\n",
            "|     ملت4|    1|\n",
            "|  مداران4|    1|\n",
            "| ضفار1125|    1|\n",
            "|  تملي808|    1|\n",
            "| ضغدر3001|    1|\n",
            "|  اروند09|    1|\n",
            "|صمعاد4122|    1|\n",
            "|   اراد37|    1|\n",
            "|  وتعاون2|    1|\n",
            "|   افاد55|    1|\n",
            "+---------+-----+\n",
            "only showing top 20 rows\n",
            "\n"
          ],
          "name": "stdout"
        }
      ]
    },
    {
      "cell_type": "markdown",
      "metadata": {
        "id": "kzw1o_zHrHZi"
      },
      "source": [
        "### With Spark SQL"
      ]
    },
    {
      "cell_type": "code",
      "metadata": {
        "colab": {
          "base_uri": "https://localhost:8080/"
        },
        "id": "O_ewR6lfq6LX",
        "outputId": "f0fda15b-316f-4959-e58f-8feb491f9b2c"
      },
      "source": [
        "print(\"Most closed symbols:\")\n",
        "spark.sql(\"SELECT symbol, COUNT(*) as open_days \" +\n",
        "          \"FROM stocks \" +\n",
        "          \"GROUP BY symbol \" +\n",
        "          \"ORDER BY open_days ASC;\").show()"
      ],
      "execution_count": 107,
      "outputs": [
        {
          "output_type": "stream",
          "text": [
            "Most closed symbols:\n",
            "+---------+---------+\n",
            "|   symbol|open_days|\n",
            "+---------+---------+\n",
            "|    دروز4|        1|\n",
            "|    آسام4|        1|\n",
            "|   اراد58|        1|\n",
            "|  صگل3092|        1|\n",
            "| تسه99112|        1|\n",
            "|صايپا2032|        1|\n",
            "|  پا ر 18|        1|\n",
            "| اخزا7182|        1|\n",
            "|  وتعاون2|        1|\n",
            "|    سدشت2|        1|\n",
            "|  مداران4|        1|\n",
            "|   اراد37|        1|\n",
            "|   افاد55|        1|\n",
            "| ضسان2011|        1|\n",
            "|     ملت4|        1|\n",
            "|  تملي808|        1|\n",
            "| ضفار1125|        1|\n",
            "| ضغدر3001|        1|\n",
            "|صمعاد4122|        1|\n",
            "|  اروند09|        1|\n",
            "+---------+---------+\n",
            "only showing top 20 rows\n",
            "\n"
          ],
          "name": "stdout"
        }
      ]
    }
  ]
}